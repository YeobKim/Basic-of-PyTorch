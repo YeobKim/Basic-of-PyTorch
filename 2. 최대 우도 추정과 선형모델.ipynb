{
 "cells": [
  {
   "cell_type": "markdown",
   "metadata": {},
   "source": [
    "# 2.3 선형 회귀 모델\n",
    "\n",
    "### 여러 변수로부터 하나 또는 여러 개의 값을 예측하는 기법\n",
    "\n",
    "y = a*x + b + e 이런 식일 때 x로부터 y를 예측하는 것이 목표 "
   ]
  },
  {
   "cell_type": "markdown",
   "metadata": {},
   "source": [
    "## 2.3.2 파이토치로 선형 회귀 모델 만들기(직접 만들기)\n"
   ]
  },
  {
   "cell_type": "code",
   "execution_count": 17,
   "metadata": {},
   "outputs": [],
   "source": [
    "import torch\n",
    "\n",
    "# 창의 계수\n",
    "w_true = torch.Tensor([1,2,3])\n",
    "\n",
    "# X 데이터 준비, 절편을 회귀 계수에 포함시키기 위해\n",
    "# X의 최초 차원에 1을 추가해 둔다.\n",
    "\n",
    "x = torch.cat([torch.ones(100,1), torch.randn(100,2)], 1)"
   ]
  },
  {
   "cell_type": "code",
   "execution_count": 18,
   "metadata": {},
   "outputs": [],
   "source": [
    "# 참의 계수와 각 x의 내적을 행렬과 벡터의 곱으로 모아서 계산\n",
    "y = torch.mv(x, w_true) + torch.randn(100) * 0.5"
   ]
  },
  {
   "cell_type": "code",
   "execution_count": 19,
   "metadata": {},
   "outputs": [],
   "source": [
    "# 기울기 하강으로 최적화하기 위해 파라미터 Tensor를 난수로 초기화해서 생성\n",
    "w = torch.randn(3, requires_grad = True)\n",
    "# 학습률\n",
    "gamma = 0.1"
   ]
  },
  {
   "cell_type": "code",
   "execution_count": 20,
   "metadata": {},
   "outputs": [],
   "source": [
    "losses = []\n",
    "\n",
    "for epoc in range(100):\n",
    "    #전회의 backward 메소드로 계산된 경사값을 초기화\n",
    "    w.grad = None\n",
    "    y_pred = torch.mv(x,w)\n",
    "    \n",
    "    # MSE loss와 w에 의한 미분을 계산\n",
    "    loss = torch.mean((y-y_pred)**2)\n",
    "    loss.backward()\n",
    "    \n",
    "    # 경사를 갱신한다 \n",
    "    # w를 그대로 대입해서 갱신하면 다른 텐서가 돼서 계산 그래프가 망가진다. 따라서 data만 갱신\n",
    "    w.data = w.data - gamma * w.grad.data\n",
    "    \n",
    "    # 수렴 확인을 위한 loss를 기록해 둔다\n",
    "    losses.append(loss.item())"
   ]
  },
  {
   "cell_type": "code",
   "execution_count": 21,
   "metadata": {},
   "outputs": [
    {
     "data": {
      "text/plain": [
       "[<matplotlib.lines.Line2D at 0x1f608507390>]"
      ]
     },
     "execution_count": 21,
     "metadata": {},
     "output_type": "execute_result"
    },
    {
     "data": {
      "image/png": "[encoded data removed]",
      "text/plain": [
       "<Figure size 432x288 with 1 Axes>"
      ]
     },
     "metadata": {
      "needs_background": "light"
     },
     "output_type": "display_data"
    }
   ],
   "source": [
    "%matplotlib inline\n",
    "from matplotlib import pyplot as plt\n",
    "plt.plot(losses)"
   ]
  },
  {
   "cell_type": "code",
   "execution_count": 27,
   "metadata": {},
   "outputs": [
    {
     "data": {
      "text/plain": [
       "tensor([1.0167, 2.0052, 3.0114], requires_grad=True)"
      ]
     },
     "execution_count": 27,
     "metadata": {},
     "output_type": "execute_result"
    }
   ],
   "source": [
    "w"
   ]
  },
  {
   "cell_type": "code",
   "execution_count": 23,
   "metadata": {},
   "outputs": [],
   "source": [
    "from torch import nn, optim\n",
    "\n",
    "# Linear 층을 작성. 이번에는 절편은 회귀 계수에 포함하므로 입력 차원을 3으로 하고 bias(절편)을 False로 한다.\n",
    "net = nn.Linear(in_features=3, out_features=1, bias=False)\n",
    "\n",
    "# SGD의 최적화기상에서 정의한 네트워크의 파라미터를 전달해서 초기화\n",
    "optimizer = optim.SGD(net.parameters(), lr=0.1)\n",
    "\n",
    "# MSE loss 클래스\n",
    "loss_fn = nn.MSELoss()"
   ]
  },
  {
   "cell_type": "code",
   "execution_count": 24,
   "metadata": {},
   "outputs": [],
   "source": [
    "losses = []\n",
    "\n",
    "for epoc in range(100):\n",
    "    # 전회의 backward 메소드로 계산된 경사값을 초기화\n",
    "    optimizer.zero_grad()\n",
    "    \n",
    "    # 선형 모델으로 y예측값을 계산\n",
    "    y_pred = net(x)\n",
    "    \n",
    "    # MSE loss 계산\n",
    "    # y_pred는 (n,1)과 같은 shape를 지니고 있으므로 (n,)으로 변경할 필요가 있다.\n",
    "    loss = loss_fn(y_pred.view_as(y), y)\n",
    "    \n",
    "    # loss의 w를 사용한 미분 게산\n",
    "    loss.backward()\n",
    "    # 경사를 갱신한다\n",
    "    optimizer.step()\n",
    "    # 수렴 확인을 위한 loss를 기록해 둔다\n",
    "    losses.append(loss.item())\n",
    "    "
   ]
  },
  {
   "cell_type": "code",
   "execution_count": 25,
   "metadata": {},
   "outputs": [
    {
     "data": {
      "text/plain": [
       "[Parameter containing:\n",
       " tensor([[1.0167, 2.0052, 3.0114]], requires_grad=True)]"
      ]
     },
     "execution_count": 25,
     "metadata": {},
     "output_type": "execute_result"
    }
   ],
   "source": [
    "list(net.parameters())"
   ]
  },
  {
   "cell_type": "markdown",
   "metadata": {},
   "source": [
    "# 2.4 로지스틱 회귀(Logistic Regression)\n",
    "## 2.4.1 로지스틱 회귀의 최대 우도 추정\n",
    "\n",
    "[0,1] 사이의 값을 얻기 위해 sigmoid 함수를 적용해야한다\n",
    "이 모델에서는 y가 파라미터 z의 베르누이 분포를 따른다고 가정한다.\n",
    "베르누이 분포의 우도식을 적용하면 크로스 엔트로피 라는 양이 된다."
   ]
  },
  {
   "cell_type": "code",
   "execution_count": 61,
   "metadata": {},
   "outputs": [],
   "source": [
    "# iris 데이터 준비\n",
    "import torch\n",
    "from torch import nn, optim\n",
    "from sklearn.datasets import load_iris\n",
    "iris = load_iris()\n",
    "\n",
    "# iris는 (0,1,2)의 세 가지 종류를 분류하는 문제 이므로 (0,1)의 두 개 데이터만 사용한다.\n",
    "# 원래는 학습용과 테스트용으로 나누어야 하지만 여기선 생략\n",
    "\n",
    "x = iris.data[:100]\n",
    "y = iris.target[:100]\n",
    "\n",
    "# NumPy의 ndarray를 PyTorch의 Tensor로 변환\n",
    "x = torch.tensor(x, dtype=torch.float32)\n",
    "y = torch.tensor(y, dtype=torch.float32)"
   ]
  },
  {
   "cell_type": "code",
   "execution_count": 62,
   "metadata": {},
   "outputs": [],
   "source": [
    "# iris 데이터는 4차원\n",
    "net = nn.Linear(4,1)\n",
    "\n",
    "# 시그모이드 함수를 적용해서 두 클래스의 분류를 위한 크로스 엔트로피를 계산\n",
    "loss_fn = nn.BCEWithLogitsLoss()\n",
    "\n",
    "# SGD(약간 큰 학습률)\n",
    "optimizer = optim.SGD(net.parameters(), lr=0.25)\n"
   ]
  },
  {
   "cell_type": "code",
   "execution_count": 63,
   "metadata": {},
   "outputs": [],
   "source": [
    "# 손실 함수 로그\n",
    "losses = []\n",
    "\n",
    "# 100회 반복\n",
    "for epoc in range(1000):\n",
    "    # 경사값 초기화\n",
    "    optimizer.zero_grad()\n",
    "    \n",
    "    y_pred = net(x)\n",
    "    \n",
    "    # MSE loss를 사용한 미분 계산\n",
    "    loss = loss_fn(y_pred.view_as(y),y)\n",
    "    loss.backward()\n",
    "    \n",
    "    # 경사를 갱신\n",
    "    optimizer.step()\n",
    "    \n",
    "    # 수렴 확인을 위한 loss를 기록해 둔다\n",
    "    losses.append(loss.item())"
   ]
  },
  {
   "cell_type": "code",
   "execution_count": 64,
   "metadata": {},
   "outputs": [
    {
     "data": {
      "text/plain": [
       "[<matplotlib.lines.Line2D at 0x1f60ab67f98>]"
      ]
     },
     "execution_count": 64,
     "metadata": {},
     "output_type": "execute_result"
    },
    {
     "data": {
      "image/png": "[encoded data removed]",
      "text/plain": [
       "<Figure size 432x288 with 1 Axes>"
      ]
     },
     "metadata": {
      "needs_background": "light"
     },
     "output_type": "display_data"
    }
   ],
   "source": [
    "%matplotlib inline\n",
    "from matplotlib import pyplot as plt\n",
    "plt.plot(losses)"
   ]
  },
  {
   "cell_type": "code",
   "execution_count": 65,
   "metadata": {},
   "outputs": [
    {
     "name": "stderr",
     "output_type": "stream",
     "text": [
      "C:\\Users\\ICSP\\Anaconda3\\lib\\site-packages\\torch\\nn\\functional.py:1332: UserWarning: nn.functional.sigmoid is deprecated. Use torch.sigmoid instead.\n",
      "  warnings.warn(\"nn.functional.sigmoid is deprecated. Use torch.sigmoid instead.\")\n"
     ]
    },
    {
     "data": {
      "text/plain": [
       "tensor([0, 0, 0, 0, 0, 0, 0, 0, 0, 0, 0, 0, 0, 0, 0, 0, 0, 0, 0, 0, 0, 0, 0, 0,\n",
       "        0, 0, 0, 0, 0, 0, 0, 0, 0, 0, 0, 0, 0, 0, 0, 0, 0, 0, 0, 0, 0, 0, 0, 0,\n",
       "        0, 0, 0, 0, 0, 0, 0, 0, 0, 0, 0, 0, 0, 0, 0, 0, 0, 0, 0, 0, 0, 0, 0, 0,\n",
       "        0, 0, 0, 0, 0, 0, 0, 0, 0, 0, 0, 0, 0, 0, 0, 0, 0, 0, 0, 0, 0, 0, 0, 0,\n",
       "        0, 0, 0, 0], dtype=torch.uint8)"
      ]
     },
     "execution_count": 65,
     "metadata": {},
     "output_type": "execute_result"
    }
   ],
   "source": [
    "# 선형 결합의 결과\n",
    "h = net(x)\n",
    "\n",
    "# sigmoid 함수를 적용한 결고하는 y=1의 확률을 보여준다.\n",
    "prob = nn.functional.sigmoid(h)\n",
    "# 확률이 0.5 이상인 것을 클래스 1로 예측하고 그 외는 0으로 한다. PyTorch에는 Bool형이 없으므로 ByteTensor가 출력\n",
    "y_pred = prob > 0.5\n",
    "\n",
    "(y.byte() == y_pred.view_as(y).sum().item())"
   ]
  },
  {
   "cell_type": "markdown",
   "metadata": {},
   "source": [
    "# 2.4.3 다중 분류를 위한 로지스틱 회귀 분석\n",
    "로지스틱 회귀는 두가지 뿐만이 아니라 여러가지를 분류할 수 있다.\n",
    "선형 결합 게층의 출력을 1차원이 아닌 분류의 차원으로 만들고 손실 함수를 소프트맥스 크로스 엔트로피라는 함수로 변경하면 된다."
   ]
  },
  {
   "cell_type": "code",
   "execution_count": 83,
   "metadata": {},
   "outputs": [],
   "source": [
    "# 손으로 쓴 10개의 숫자 데이터를 분류하는 문제\n",
    "import torch\n",
    "from torch import nn, optim\n",
    "from sklearn.datasets import load_digits\n",
    "digits = load_digits()\n",
    "\n",
    "x = digits.data\n",
    "y = digits.target\n",
    "\n",
    "x = torch.tensor(x, dtype = torch.float32)\n",
    "# Cross Entropy Loss 함수는 y로 int64형의 텐서를 받으니 주의!\n",
    "y = torch.tensor(y, dtype = torch.int64)\n",
    "\n",
    "net = nn.Linear(x.size()[1], 10)\n",
    "\n",
    "# 소프트맥스 크로스 엔트로피\n",
    "loss_fn = nn.CrossEntropyLoss()\n",
    "\n",
    "# SGD\n",
    "optimizer = optim.SGD(net.parameters(), lr = 0.01)"
   ]
  },
  {
   "cell_type": "code",
   "execution_count": 84,
   "metadata": {},
   "outputs": [],
   "source": [
    "# 학습용 반복 처리\n",
    "losses = []\n",
    "\n",
    "for epoc in range(100):\n",
    "    optimizer.zero_grad()\n",
    "    # 선형 모델로 y 예측 값\n",
    "    y_pred = net(x)\n",
    "    \n",
    "    loss = loss_fn(y_pred, y)\n",
    "    loss.backward()\n",
    "    \n",
    "    optimizer.step()\n",
    "    \n",
    "    losses.append(loss.item())"
   ]
  },
  {
   "cell_type": "code",
   "execution_count": 85,
   "metadata": {},
   "outputs": [
    {
     "data": {
      "text/plain": [
       "0.9515859766277128"
      ]
     },
     "execution_count": 85,
     "metadata": {},
     "output_type": "execute_result"
    }
   ],
   "source": [
    "# 정답률\n",
    "\n",
    "# torch.max는 집계축을 지정하면 최댓값뿐만 아니라 그 위치도 반환한다\n",
    "_, y_pred = torch.max(net(x), 1)\n",
    "# 정답률 계산\n",
    "(y_pred == y).sum().item() / len(y)"
   ]
  },
  {
   "cell_type": "code",
   "execution_count": null,
   "metadata": {},
   "outputs": [],
   "source": []
  }
 ],
 "metadata": {
  "kernelspec": {
   "display_name": "Python 3",
   "language": "python",
   "name": "python3"
  },
  "language_info": {
   "codemirror_mode": {
    "name": "ipython",
    "version": 3
   },
   "file_extension": ".py",
   "mimetype": "text/x-python",
   "name": "python",
   "nbconvert_exporter": "python",
   "pygments_lexer": "ipython3",
   "version": "3.6.9"
  }
 },
 "nbformat": 4,
 "nbformat_minor": 2
}
